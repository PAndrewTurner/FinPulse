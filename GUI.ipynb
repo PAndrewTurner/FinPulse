{
 "cells": [
  {
   "cell_type": "code",
   "execution_count": 1,
   "id": "bc23854c",
   "metadata": {},
   "outputs": [],
   "source": [
    "import tkinter as tk\n",
    "from matplotlib.figure import Figure\n",
    "from matplotlib.backends.backend_tkagg import FigureCanvasTkAgg\n",
    "import pandas as pd\n",
    "import pickle\n",
    "import numpy as np"
   ]
  },
  {
   "cell_type": "code",
   "execution_count": 2,
   "id": "9d085c20",
   "metadata": {},
   "outputs": [],
   "source": [
    "def load_model():\n",
    "    global model\n",
    "    with open(\"C:\\Users\\jchin\\Documents\\Finpulse\\Walmart_Store_sales.csv\", 'rb') as file:\n",
    "        model = pickle.load(file)\n",
    "    status_label.config(text=\"Model loaded successfully.\")\n",
    "\n",
    "def load_data():\n",
    "    global data\n",
    "    data = pd.read_csv(data_file_path)\n",
    "    status_label.config(text=\"Data loaded successfully.\")\n",
    "\n",
    "def predict():\n",
    "    if 'model' in globals() and 'data' in globals():\n",
    "        # Replace this with your model's prediction method\n",
    "        global predictions\n",
    "        predictions = model.predict(data)  # Example prediction\n",
    "        status_label.config(text=\"Predictions generated.\")\n",
    "        display_sales_prediction()  # Call to display predictions\n",
    "    else:\n",
    "        status_label.config(text=\"Load model and data first.\")\n",
    "\n",
    "def display_sales_prediction():\n",
    "    if 'predictions' in globals():\n",
    "        # Create a figure for the plot\n",
    "        fig = Figure(figsize=(6, 4), dpi=100)\n",
    "        plot = fig.add_subplot(1, 1, 1)\n",
    "\n",
    "        # Assuming 'predictions' contains weekly sales data\n",
    "        weeks = np.arange(1, len(predictions) + 1)\n",
    "        plot.plot(weeks, predictions, marker='o', color='b')\n",
    "\n",
    "        plot.set_title(\"Weekly Sales Predictions\")\n",
    "        plot.set_xlabel(\"Week\")\n",
    "        plot.set_ylabel(\"Sales\")\n",
    "\n",
    "        # Embed the plot in the Tkinter window\n",
    "        canvas = FigureCanvasTkAgg(fig, master=root)\n",
    "        canvas_widget = canvas.get_tk_widget()\n",
    "        canvas_widget.pack()\n",
    "        canvas.draw()\n",
    "    else:\n",
    "        status_label.config(text=\"No predictions to display.\")"
   ]
  },
  {
   "cell_type": "code",
   "execution_count": null,
   "id": "6d0fa657",
   "metadata": {},
   "outputs": [],
   "source": [
    "# Initialize Tkinter root window\n",
    "root = tk.Tk()\n",
    "root.title(\"Sales Prediction GUI\")\n",
    "\n",
    "# Create widgets\n",
    "load_model_button = tk.Button(root, text=\"Load Model\", command=load_model)\n",
    "load_model_button.pack()\n",
    "\n",
    "load_data_button = tk.Button(root, text=\"Load Data\", command=load_data)\n",
    "load_data_button.pack()\n",
    "\n",
    "predict_button = tk.Button(root, text=\"Predict Sales\", command=predict)\n",
    "predict_button.pack()\n",
    "\n",
    "status_label = tk.Label(root, text=\"Welcome to Sales Prediction GUI\")\n",
    "status_label.pack()\n",
    "\n",
    "result_text = tk.Text(root, height=10, width=50)\n",
    "result_text.pack()\n",
    "\n",
    "# Start the Tkinter event loop\n",
    "root.mainloop()"
   ]
  }
 ],
 "metadata": {
  "kernelspec": {
   "display_name": "Python 3 (ipykernel)",
   "language": "python",
   "name": "python3"
  },
  "language_info": {
   "codemirror_mode": {
    "name": "ipython",
    "version": 3
   },
   "file_extension": ".py",
   "mimetype": "text/x-python",
   "name": "python",
   "nbconvert_exporter": "python",
   "pygments_lexer": "ipython3",
   "version": "3.9.13"
  }
 },
 "nbformat": 4,
 "nbformat_minor": 5
}
